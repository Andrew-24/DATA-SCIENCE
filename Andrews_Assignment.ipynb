{
    "cells": [
        {
            "cell_type": "markdown",
            "metadata": {
                "collapsed": true
            },
            "source": "   # My Jupyter Notebook on IBM Watson Studio "
        },
        {
            "cell_type": "markdown",
            "metadata": {},
            "source": "**Andrew Eromosele**\n\n\nSenior Software Developer"
        },
        {
            "cell_type": "markdown",
            "metadata": {},
            "source": "_I am interested in data science because I need to take my technical career to the next levle_\n*I am interested in data science because Data Science will help me provide better insights to every data gotten from my web applications.*  "
        },
        {
            "cell_type": "markdown",
            "metadata": {},
            "source": "### My code is supposed to add one to one (1 + 1)"
        },
        {
            "cell_type": "code",
            "execution_count": 1,
            "metadata": {},
            "outputs": [
                {
                    "data": {
                        "text/plain": "2"
                    },
                    "execution_count": 1,
                    "metadata": {},
                    "output_type": "execute_result"
                }
            ],
            "source": "x = 1\nx + x "
        },
        {
            "cell_type": "markdown",
            "metadata": {},
            "source": "One Horizontal Rule\n___\n\nTwo Horizontal Rule\n___\n\nThree Horizontal Rule\n___\n\n\n* One Bullet.\n* Two Bullet.\n* Three Bullet.\n\n> One Blockquote.\n\n> Two Blockquote.\n\n> Three Blockquote."
        }
    ],
    "metadata": {
        "kernelspec": {
            "display_name": "Python 3.6",
            "language": "python",
            "name": "python3"
        },
        "language_info": {
            "codemirror_mode": {
                "name": "ipython",
                "version": 3
            },
            "file_extension": ".py",
            "mimetype": "text/x-python",
            "name": "python",
            "nbconvert_exporter": "python",
            "pygments_lexer": "ipython3",
            "version": "3.6.9"
        }
    },
    "nbformat": 4,
    "nbformat_minor": 1
}